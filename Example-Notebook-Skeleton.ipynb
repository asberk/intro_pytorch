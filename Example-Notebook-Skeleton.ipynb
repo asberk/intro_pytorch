{
 "cells": [
  {
   "cell_type": "markdown",
   "metadata": {},
   "source": [
    "# Packages"
   ]
  },
  {
   "cell_type": "code",
   "execution_count": null,
   "metadata": {},
   "outputs": [],
   "source": [
    "# !pip install torchsummary"
   ]
  },
  {
   "cell_type": "code",
   "execution_count": null,
   "metadata": {},
   "outputs": [],
   "source": [
    "import numpy as np\n",
    "import pandas as pd\n",
    "import matplotlib.pyplot as plt\n",
    "%matplotlib inline\n",
    "from sklearn.datasets import make_swiss_roll, fetch_openml, load_digits\n",
    "from sklearn.model_selection import train_test_split\n",
    "from torchvision import datasets, transforms\n",
    "import torch\n",
    "import torch.nn as nn\n",
    "from torch.nn import CrossEntropyLoss\n",
    "from torch.optim import SGD\n",
    "from torch.optim.lr_scheduler import ExponentialLR\n",
    "from torch.utils.data import DataLoader, Subset, TensorDataset\n",
    "from torch.utils.data.sampler import SubsetRandomSampler\n",
    "from torchsummary import summary\n",
    "from util import _parse_batch_size, _parse_shuffle"
   ]
  },
  {
   "cell_type": "markdown",
   "metadata": {},
   "source": [
    "# Constants"
   ]
  },
  {
   "cell_type": "code",
   "execution_count": null,
   "metadata": {},
   "outputs": [],
   "source": [
    "DATA_DIR = \"./data/\""
   ]
  },
  {
   "cell_type": "markdown",
   "metadata": {},
   "source": [
    "# Example 1: Compressed Sensing\n",
    "\n",
    "## Data"
   ]
  },
  {
   "cell_type": "code",
   "execution_count": null,
   "metadata": {},
   "outputs": [],
   "source": [
    "# Set dimensional parameters and define signal\n",
    "#\n",
    "\n",
    "# Create (noisy) data\n",
    "#\n",
    "\n",
    "# Create training and test set\n",
    "#\n",
    "\n",
    "# Create DataLoaders\n",
    "#"
   ]
  },
  {
   "cell_type": "markdown",
   "metadata": {},
   "source": [
    "## Model and training set-up"
   ]
  },
  {
   "cell_type": "code",
   "execution_count": null,
   "metadata": {},
   "outputs": [],
   "source": [
    "# Define Lasso class\n",
    "#    \n",
    "\n",
    "# Create Lasso instance\n",
    "#\n",
    "\n",
    "# Define loss(es), optimizer and tuning parameter\n",
    "#"
   ]
  },
  {
   "cell_type": "markdown",
   "metadata": {},
   "source": [
    "## Training"
   ]
  },
  {
   "cell_type": "code",
   "execution_count": null,
   "metadata": {},
   "outputs": [],
   "source": [
    "# Set number of epochs\n",
    "#\n",
    "\n",
    "# Instantiate variables for tracking training\n",
    "#\n",
    "\n",
    "# Loop 1\n",
    "    # Loop 2\n",
    "        # zero the previous gradients\n",
    "        \n",
    "        # obtain predictions and compute loss\n",
    "        \n",
    "        # track optimization info\n",
    "        \n",
    "        # compute gradients and update weights\n",
    "        "
   ]
  },
  {
   "cell_type": "markdown",
   "metadata": {},
   "source": [
    "## Solution quality"
   ]
  },
  {
   "cell_type": "code",
   "execution_count": null,
   "metadata": {},
   "outputs": [],
   "source": [
    "def get_plotting_domain(num_epochs, num_batches):\n",
    "    domain = (\n",
    "        np.linspace(0, 1, num_batches).reshape(1, -1) + \n",
    "        np.arange(num_epochs).reshape(-1, 1)\n",
    "    ).ravel()\n",
    "    return domain"
   ]
  },
  {
   "cell_type": "code",
   "execution_count": null,
   "metadata": {},
   "outputs": [],
   "source": [
    "# format optimization info for plotting\n",
    "domain = get_plotting_domain(num_epochs, len(train_loader))\n",
    "resid_hist = np.array(resid_hist)\n",
    "error_hist = np.array(error_hist)\n",
    "l1_value_hist = np.array(l1_value_hist)"
   ]
  },
  {
   "cell_type": "code",
   "execution_count": null,
   "metadata": {},
   "outputs": [],
   "source": [
    "plt.rcParams['font.size'] = 16\n",
    "plt.rcParams['axes.labelsize'] = 18\n",
    "plt.rcParams['lines.linewidth'] = 3\n",
    "fig, ax = plt.subplots(1,2,figsize=(15,5))\n",
    "# Axis 0:\n",
    "# Plot residual MSE with label '$\\|\\hat y - Xw_0\\|_2^2$'\n",
    "\n",
    "# Plot error MSE with label '$\\|\\hat w - w_0\\|_2^2$'\n",
    "\n",
    "# Plot on a log scale\n",
    "\n",
    "# Add a legend\n",
    "\n",
    "# Axis 1:\n",
    "# Plot value of ell-1 norm over optimization with label '$\\|\\hat w\\|_1$'\n",
    "\n",
    "# Add a legend\n"
   ]
  },
  {
   "cell_type": "code",
   "execution_count": null,
   "metadata": {},
   "outputs": [],
   "source": [
    "# Obtain the solution, w_hat\n",
    "\n",
    "# Obtain the support size with tolerance 0.01 and print it\n"
   ]
  },
  {
   "cell_type": "code",
   "execution_count": null,
   "metadata": {},
   "outputs": [],
   "source": [
    "# Examine the first five entries of w_hat\n"
   ]
  },
  {
   "cell_type": "markdown",
   "metadata": {},
   "source": [
    "# Example 2: Swiss Roll Classification\n",
    "\n",
    "## Creating a training and test set"
   ]
  },
  {
   "cell_type": "code",
   "execution_count": null,
   "metadata": {},
   "outputs": [],
   "source": [
    "def make_swiss_roll_classification(\n",
    "    n_samples=10000, noise=1, seed=2112, n_segments=6, val_size=.15, test_size=.15\n",
    "):\n",
    "    X, tt = make_swiss_roll(n_samples, noise=noise, random_state=seed)\n",
    "    bins = np.linspace(tt.min(), tt.max(), n_segments, endpoint=False)\n",
    "    tt_dig = np.digitize(tt, bins)\n",
    "    y = np.where((tt_dig % 2) == 0, 0, 1)\n",
    "    # Split data into X_train, X_val, X_test, y_train, y_val, y_test\n",
    "    # ...\n",
    "    return X_train, X_val, X_test, y_train, y_val, y_test"
   ]
  },
  {
   "cell_type": "code",
   "execution_count": null,
   "metadata": {},
   "outputs": [],
   "source": [
    "def make_dataloaders(\n",
    "    *arrays, batch_size=None, shuffle=None, make_eval_train=False\n",
    "):\n",
    "    batch_size = _parse_batch_size(batch_size)\n",
    "    shuffle = _parse_shuffle(shuffle)\n",
    "    if len(arrays) == 6:\n",
    "        X_train, X_val, X_test, y_train, y_val, y_test = arrays\n",
    "    else:\n",
    "        X_train, X_test, y_train, y_test = arrays\n",
    "        X_val = None\n",
    "\n",
    "    dset_train = TensorDataset(\n",
    "        torch.tensor(X_train).float(), torch.tensor(y_train).long()\n",
    "    )\n",
    "    dl_train = DataLoader(\n",
    "        dset_train, batch_size=batch_size[0], shuffle=shuffle[0]\n",
    "    )\n",
    "    to_be_returned = [dl_train]\n",
    "    \n",
    "    if make_eval_train:\n",
    "        J = np.random.choice(X_train.shape[0], X_test.shape[0], replace=False)\n",
    "        dset_eval_train = Subset(dset_train, J)\n",
    "        dl_eval_train = DataLoader(\n",
    "            dset_eval_train, batch_size=batch_size[1], shuffle=shuffle[1]\n",
    "        )\n",
    "        to_be_returned.append(dl_eval_train)\n",
    "\n",
    "    if X_val is not None:\n",
    "        dset_val = TensorDataset(\n",
    "            torch.tensor(X_val).float(), torch.tensor(y_val).long()\n",
    "        )\n",
    "        dl_val = DataLoader(\n",
    "            dset_val, batch_size=batch_size[1], shuffle=shuffle[1]\n",
    "        )\n",
    "        to_be_returned.append(dl_val)\n",
    "\n",
    "    dset_test = TensorDataset(\n",
    "        torch.tensor(X_test).float(), torch.tensor(y_test).long()\n",
    "    )\n",
    "    dl_test = DataLoader(\n",
    "        dset_test, batch_size=batch_size[-1], shuffle=shuffle[-1]\n",
    "    )\n",
    "    to_be_returned.append(dl_test)\n",
    "\n",
    "    return to_be_returned"
   ]
  },
  {
   "cell_type": "code",
   "execution_count": null,
   "metadata": {},
   "outputs": [],
   "source": [
    "X_train, X_val, X_test, y_train, y_val, y_test = # ...\n",
    "dl_train, dl_eval_train, dl_val, dl_test = # ..."
   ]
  },
  {
   "cell_type": "markdown",
   "metadata": {},
   "source": [
    "## A simple network"
   ]
  },
  {
   "cell_type": "code",
   "execution_count": null,
   "metadata": {},
   "outputs": [],
   "source": [
    "class TwoLayerDenseNet(nn.Module):\n",
    "    def __init__(self, in_features, hidden_size, num_classes):\n",
    "        super().__init__()\n",
    "        self.fc1 = # ...\n",
    "        self.fc2 = # ...\n",
    "        self.do = # ...\n",
    "\n",
    "    def forward(self, inputs):\n",
    "        # ...\n",
    "        return outputs"
   ]
  },
  {
   "cell_type": "code",
   "execution_count": null,
   "metadata": {},
   "outputs": [],
   "source": [
    "# Create a model with 100 hidden layers\n",
    "model = # ..."
   ]
  },
  {
   "cell_type": "code",
   "execution_count": null,
   "metadata": {},
   "outputs": [],
   "source": [
    "# Print a summary of model\n",
    "# ..."
   ]
  },
  {
   "cell_type": "markdown",
   "metadata": {},
   "source": [
    "## Training setup"
   ]
  },
  {
   "cell_type": "code",
   "execution_count": null,
   "metadata": {},
   "outputs": [],
   "source": [
    "# Define objects for optimization\n",
    "# ..."
   ]
  },
  {
   "cell_type": "code",
   "execution_count": null,
   "metadata": {},
   "outputs": [],
   "source": [
    "def make_train_and_val_functions(model, criterion, optimizer):\n",
    "    def train_step(batch):\n",
    "        model.train()\n",
    "        inputs, targets = batch\n",
    "        y_logits = model(inputs)\n",
    "        loss = criterion(y_logits, targets)\n",
    "        optimizer.zero_grad()\n",
    "        loss.backward()\n",
    "        optimizer.step()\n",
    "        y_pred = torch.max(y_logits, 1).indices\n",
    "        loss_value = loss.item()\n",
    "        correct = (y_pred == targets.detach())\n",
    "        return {'loss': loss_value, \n",
    "                'num_correct': correct.long().sum().numpy(), \n",
    "                'batch_accuracy': correct.float().mean().numpy(), \n",
    "                'batch_size': correct.numpy().size}\n",
    "\n",
    "    def eval_step(batch):\n",
    "        model.eval()\n",
    "        inputs, targets = batch\n",
    "        y_logits = model(inputs)\n",
    "        loss = criterion(y_logits, targets)\n",
    "        y_pred = torch.max(y_logits, 1).indices\n",
    "        loss_value = loss.item()\n",
    "        correct = (y_pred == targets.detach())\n",
    "        return {'loss': loss_value, \n",
    "                'num_correct': correct.long().sum().numpy(), \n",
    "                'batch_accuracy': correct.float().mean().numpy(), \n",
    "                'batch_size': correct.numpy().size}\n",
    "    return train_step, eval_step\n"
   ]
  },
  {
   "cell_type": "markdown",
   "metadata": {},
   "source": [
    "## Training loop"
   ]
  },
  {
   "cell_type": "code",
   "execution_count": null,
   "metadata": {},
   "outputs": [],
   "source": [
    "# Number of epochs\n",
    "\n",
    "# Variables to store training information\n",
    "\n",
    "# Make train_step and eval_step\n",
    "\n",
    "# Outer loop\n",
    "    # Train phase: Inner loop\n",
    "        # Step\n",
    "        # ...\n",
    "        # Record stats\n",
    "        # ...\n",
    "\n",
    "    # Step scheduler\n",
    "\n",
    "    # Train eval phase: Inner loop\n",
    "        # Step\n",
    "        # ...\n",
    "        # Record stats\n",
    "        # ...\n",
    "    \n",
    "    # Val phase: Inner loop\n",
    "        # Step\n",
    "        # ...\n",
    "        # Record stats\n",
    "        # ...\n",
    "\n",
    "    # Print information at end of epoch\n",
    "    # ...\n",
    "\n",
    "# Finished\n",
    "print('done.')"
   ]
  },
  {
   "cell_type": "markdown",
   "metadata": {},
   "source": [
    "## Process Training Info"
   ]
  },
  {
   "cell_type": "code",
   "execution_count": null,
   "metadata": {},
   "outputs": [],
   "source": [
    "def transpose_lod(lod):\n",
    "    return {key: [dd[key] for dd in lod] for key in lod[0].keys()}"
   ]
  },
  {
   "cell_type": "code",
   "execution_count": null,
   "metadata": {},
   "outputs": [],
   "source": [
    "train_stats = transpose_lod(train_history)\n",
    "eval_train_stats = transpose_lod(eval_train_stats)\n",
    "val_stats = transpose_lod(val_stats)"
   ]
  },
  {
   "cell_type": "code",
   "execution_count": null,
   "metadata": {},
   "outputs": [],
   "source": [
    "df = pd.concat([\n",
    "    pd.DataFrame.from_dict(x) \n",
    "    for x in [train_stats, eval_train_stats, val_stats]], \n",
    "    keys=['train', 'eval_train', 'val']\n",
    ").reset_index(level=0).rename(columns={'level_0': 'phase'})\n",
    "df.head()"
   ]
  },
  {
   "cell_type": "code",
   "execution_count": null,
   "metadata": {},
   "outputs": [],
   "source": [
    "train_df = df.loc[df.phase == 'train']\n",
    "train_avg_epoch_loss = (\n",
    "    train_df.groupby(['epoch'])\n",
    "    .loss\n",
    "    .agg(['mean', 'std'])\n",
    "    .reset_index()\n",
    "    .rename(columns={'mean': 'mean_batch_loss', 'std': 'sd_batch_loss'})\n",
    ")\n",
    "train_avg_epoch_loss.head()"
   ]
  },
  {
   "cell_type": "markdown",
   "metadata": {},
   "source": [
    "## *Post silico*\n",
    "\n",
    "Notice that the `train_stats` are skewed by `Dropout`. This is why we use `eval_train`."
   ]
  },
  {
   "cell_type": "code",
   "execution_count": null,
   "metadata": {},
   "outputs": [],
   "source": [
    "plt.figure(figsize=(8,4))\n",
    "plt.plot(\n",
    "    train_avg_epoch_loss.epoch, \n",
    "    train_avg_epoch_loss.mean_batch_loss, \n",
    "    c='blue', \n",
    "    label='train'\n",
    ")\n",
    "plt.fill_between(\n",
    "    train_avg_epoch_loss.epoch, \n",
    "    train_avg_epoch_loss.mean_batch_loss - 1.96 * train_avg_epoch_loss.sd_batch_loss, \n",
    "    train_avg_epoch_loss.mean_batch_loss + 1.96 * train_avg_epoch_loss.sd_batch_loss, \n",
    "    alpha=.1, color='blue'\n",
    ")\n",
    "# Plot val loss as a black dashed line with label 'validation'\n",
    "# ...\n",
    "# Plot eval_train loss as an orange dotted line with label 'eval_train'\n",
    "# ...\n",
    "# Add a legend\n",
    "# ..."
   ]
  },
  {
   "cell_type": "code",
   "execution_count": null,
   "metadata": {},
   "outputs": [],
   "source": [
    "plt.figure(figsize=(8, 4))\n",
    "# Plot val accuracy as a black dashed line with label 'validation'\n",
    "# ...\n",
    "# Plot eval_train accuracy as an orange dotted line with label 'eval_train'\n",
    "# ...\n",
    "# Add a legend\n",
    "# ..."
   ]
  },
  {
   "cell_type": "code",
   "execution_count": null,
   "metadata": {},
   "outputs": [],
   "source": [
    "# Obtain test predictions as `test_pred`\n",
    "# ...\n",
    "# Compute test accuracy\n",
    "# ...\n",
    "# Report test accuracy\n",
    "# ..."
   ]
  },
  {
   "cell_type": "code",
   "execution_count": null,
   "metadata": {},
   "outputs": [],
   "source": [
    "def plot_swiss_rolls(data, coloring):\n",
    "    fig, ax = plt.subplots(1,3,figsize=(15,5))\n",
    "    ax[0].scatter(data[:, 0], data[:, 1], c=coloring)\n",
    "    ax[0].set_title('x0 vs. x1')\n",
    "    ax[1].scatter(data[:, 0], data[:, 2], c=coloring)\n",
    "    ax[1].set_title('x0 vs. x2')\n",
    "    ax[2].scatter(data[:, 1], data[:, 2], c=coloring)\n",
    "    ax[2].set_title('x1 vs. x2')\n",
    "    return fig, ax"
   ]
  },
  {
   "cell_type": "code",
   "execution_count": null,
   "metadata": {},
   "outputs": [],
   "source": [
    "plot_swiss_rolls(X_test, y_test);"
   ]
  },
  {
   "cell_type": "code",
   "execution_count": null,
   "metadata": {},
   "outputs": [],
   "source": [
    "plot_swiss_rolls(X_test, (y_test != test_pred.numpy()));"
   ]
  }
 ],
 "metadata": {
  "kernelspec": {
   "display_name": "py37",
   "language": "python",
   "name": "py37"
  },
  "language_info": {
   "codemirror_mode": {
    "name": "ipython",
    "version": 3
   },
   "file_extension": ".py",
   "mimetype": "text/x-python",
   "name": "python",
   "nbconvert_exporter": "python",
   "pygments_lexer": "ipython3",
   "version": "3.6.10"
  },
  "toc": {
   "base_numbering": 1,
   "nav_menu": {},
   "number_sections": true,
   "sideBar": true,
   "skip_h1_title": false,
   "title_cell": "Table of Contents",
   "title_sidebar": "Contents",
   "toc_cell": false,
   "toc_position": {},
   "toc_section_display": true,
   "toc_window_display": false
  }
 },
 "nbformat": 4,
 "nbformat_minor": 4
}
